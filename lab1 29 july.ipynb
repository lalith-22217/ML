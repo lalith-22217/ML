{
 "cells": [
  {
   "cell_type": "code",
   "execution_count": 5,
   "id": "7d1935a2",
   "metadata": {},
   "outputs": [
    {
     "name": "stdout",
     "output_type": "stream",
     "text": [
      "Number of pairs is: 2\n"
     ]
    }
   ],
   "source": [
    "def fun(lis, a):\n",
    "    con = 0\n",
    "    b = len(lis)\n",
    "    for i in range(b):\n",
    "        for j in range(i + 1, b):\n",
    "            if lis[i] + lis[j] == a:\n",
    "                con += 1\n",
    "    return con\n",
    "lis = [2,7,4,1,3,6]\n",
    "a= 10\n",
    "result = fun(lis, a )\n",
    "print(\"Number of pairs is:\", result)\n"
   ]
  },
  {
   "cell_type": "code",
   "execution_count": null,
   "id": "bfb6f37a",
   "metadata": {},
   "outputs": [],
   "source": [
    "\n"
   ]
  },
  {
   "cell_type": "code",
   "execution_count": 31,
   "id": "3f0d4e62",
   "metadata": {},
   "outputs": [
    {
     "name": "stdout",
     "output_type": "stream",
     "text": [
      "Enter the dimension of the matrix (n x n): 3\n",
      "Enter the matrix elements row by row:\n",
      "Row 1: 2 3 4\n",
      "Row 2: 3 4 5\n",
      "Row 3: 5 6 7\n",
      "Enter a positive integer m: 2\n",
      "The matrix is:\n",
      "[2.0, 3.0, 4.0]\n",
      "[3.0, 4.0, 5.0]\n",
      "[5.0, 6.0, 7.0]\n",
      "Matrix ^ m is:\n",
      "[17. 23. 29.]\n",
      "[24. 33. 42.]\n",
      "[38. 53. 68.]\n"
     ]
    }
   ],
   "source": [
    "import numpy as np\n",
    "\n",
    "def matr():\n",
    "    a = int(input(\"Enter the dimension of the matrix (n x n): \"))\n",
    "    matrix = []\n",
    "    \n",
    "    print(\"Enter the matrix elements row by row:\")\n",
    "    for i in range(a):\n",
    "        row = list(map(float, input(f\"Row {i+1}: \").split()))\n",
    "        if len(row) != a:\n",
    "            return \"Error: The number of columns does not match the dimension.\"\n",
    "        matrix.append(row)\n",
    "    \n",
    "    m = int(input(\"Enter a positive integer m: \"))\n",
    "    if m <= 0:\n",
    "        return \"Error: The integer m must be positive.\"\n",
    "    \n",
    "    if not all(len(row) == a for row in matrix):\n",
    "        return \"Error: The matrix is not square.\"\n",
    "    \n",
    "    matrix_np = np.array(matrix)\n",
    "\n",
    "    try:\n",
    "        power = np.linalg.matrix_power(matrix_np, m)\n",
    "    except np.linalg.LinAlgError as e:\n",
    "        return f\"Error in matrix exponentiation: {e}\"\n",
    "    \n",
    "    return matrix, matrix_power\n",
    "\n",
    "result = matr()\n",
    "\n",
    "if isinstance(result, str):\n",
    "    print(result)\n",
    "else:\n",
    "    matrix, power = result\n",
    "    print(\"The matrix is:\")\n",
    "    for row in matrix:\n",
    "        print(row)\n",
    "    \n",
    "    print(\"Matrix ^ m is:\")\n",
    "    for row in power:\n",
    "        print(row)\n"
   ]
  },
  {
   "cell_type": "code",
   "execution_count": 16,
   "id": "db4f29dc",
   "metadata": {},
   "outputs": [
    {
     "name": "stdout",
     "output_type": "stream",
     "text": [
      "the range of the list is 8\n"
     ]
    }
   ],
   "source": [
    "def fun(lis):\n",
    "    if len(lis) < 3:\n",
    "        print(\"Range determination not possible\")\n",
    "    mi=min(lis)\n",
    "    mx=max(lis)\n",
    "    ran=mx-mi\n",
    "    return ran\n",
    "        \n",
    "lis=[5,3,8,1,0,4]        \n",
    "result=fun(lis)\n",
    "print(\"the range of the list is\" , result)"
   ]
  },
  {
   "cell_type": "code",
   "execution_count": null,
   "id": "964b0f87",
   "metadata": {},
   "outputs": [],
   "source": []
  },
  {
   "cell_type": "code",
   "execution_count": 35,
   "id": "21e658c0",
   "metadata": {},
   "outputs": [
    {
     "name": "stdout",
     "output_type": "stream",
     "text": [
      "Enter the string: hippopotamus\n",
      "The highest occurring character is 'p' with occurrence count 3.\n"
     ]
    }
   ],
   "source": [
    "def highest_occurrence(input_string):\n",
    "    count_dict = {}\n",
    "    \n",
    "    for char in input_string:\n",
    "        if char.isalpha():\n",
    "            char = char.lower()\n",
    "            if char in count_dict:\n",
    "                count_dict[char] += 1\n",
    "            else:\n",
    "                count_dict[char] = 1\n",
    "    \n",
    "    if not count_dict:\n",
    "        return \"No alphabetic characters found.\"\n",
    "    \n",
    "    highest_char = max(count_dict, key=count_dict.get)\n",
    "    highest_count = count_dict[highest_char]\n",
    "    \n",
    "    return highest_char, highest_count\n",
    "\n",
    "input_string = input(\"Enter the string: \")\n",
    "char, count = highest_occurrence(input_string)\n",
    "print(f\"The highest occurring character is '{char}' with occurrence count {count}.\")\n"
   ]
  },
  {
   "cell_type": "code",
   "execution_count": null,
   "id": "f23a89eb",
   "metadata": {},
   "outputs": [],
   "source": []
  }
 ],
 "metadata": {
  "kernelspec": {
   "display_name": "Python 3 (ipykernel)",
   "language": "python",
   "name": "python3"
  },
  "language_info": {
   "codemirror_mode": {
    "name": "ipython",
    "version": 3
   },
   "file_extension": ".py",
   "mimetype": "text/x-python",
   "name": "python",
   "nbconvert_exporter": "python",
   "pygments_lexer": "ipython3",
   "version": "3.11.4"
  }
 },
 "nbformat": 4,
 "nbformat_minor": 5
}
